{
 "cells": [
  {
   "cell_type": "code",
   "execution_count": 1,
   "id": "239d922c",
   "metadata": {},
   "outputs": [],
   "source": [
    "import numpy as np\n",
    "import matplotlib.pyplot as plt\n",
    "import pandas as pd\n",
    "import astropy as ap"
   ]
  },
  {
   "cell_type": "code",
   "execution_count": 2,
   "id": "b96144cf",
   "metadata": {},
   "outputs": [],
   "source": [
    "def fit2numpy(file_name,a):\n",
    "    '''function within fits2xyz to convert a FITS image from z,x,y format to x,y,z upon being read by astropy/numpy\n",
    "    and converts all the negative values to 0.\n",
    "    #filename - name of the FITS file ,\n",
    "    #a - number of bands to be rearranged (by default its 1st band of the image)'''\n",
    "    df  = pd.DataFrame()\n",
    "    npp = np.ndarray(shape=(mx,my,1))\n",
    "    for z in range(0,a):\n",
    "        extract_mz = np.reshape(image[z,:,:],(mx,my)).flatten()\n",
    "        data.      = {'Band'+str(z+1):extract_mz}\n",
    "        df2        = pd.DataFrame(data)\n",
    "        df.        = pd.concat([df,df2],axis=1)\n",
    "        df[df<0]   = 0\n",
    "    return df\n",
    "def fits2xyz(filename,a=0):\n",
    "    ''' Written by: Nandita Kumari , Stony Brook University\n",
    "    function to convert a FITS image from z,x,y format to x,y,z upon being read by astropy/numpy\n",
    "    #filename - name of the FITS file ,\n",
    "    #a - number of bands to be rearranged (by default its 1st band of the image)'''\n",
    "    img1     = ap.utils.data.get_pkg_data_filename(filename)\n",
    "    image    = ap.io.fits.getdata(img1, ext=0)\n",
    "    mz,mx,my = np.shape(image)\n",
    "    df1      = fit2numpy(filename,a)\n",
    "    dff      = df1.to_numpy()\n",
    "    fd       = dff.reshape(mx,my,a)\n",
    "    return fd"
   ]
  },
  {
   "cell_type": "code",
   "execution_count": null,
   "id": "328d8056",
   "metadata": {},
   "outputs": [],
   "source": []
  }
 ],
 "metadata": {
  "kernelspec": {
   "display_name": "Python 3 (ipykernel)",
   "language": "python",
   "name": "python3"
  },
  "language_info": {
   "codemirror_mode": {
    "name": "ipython",
    "version": 3
   },
   "file_extension": ".py",
   "mimetype": "text/x-python",
   "name": "python",
   "nbconvert_exporter": "python",
   "pygments_lexer": "ipython3",
   "version": "3.8.2"
  }
 },
 "nbformat": 4,
 "nbformat_minor": 5
}
